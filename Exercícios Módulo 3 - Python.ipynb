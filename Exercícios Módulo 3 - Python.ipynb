{
 "cells": [
  {
   "cell_type": "markdown",
   "id": "4666c441",
   "metadata": {},
   "source": [
    "1 - Neste exercício você deve criar um programa que abra o arquivo \n",
    "\"alunos.csv\" e imprima o conteúdo do arquivo linha a linha.\n",
    "\n",
    "Note que esse é o primeiro exercício de uma sequência, então o seu código \n",
    "pode ser reaproveitado nos exercícios seguintes. Dito isso, a recomendação é \n",
    "usar a biblioteca CSV para ler o arquivo mesmo que não seja realmente \n",
    "necessário para esse primeiro item.\n"
   ]
  },
  {
   "cell_type": "code",
   "execution_count": 1,
   "id": "9af07578",
   "metadata": {},
   "outputs": [],
   "source": [
    "import csv"
   ]
  },
  {
   "cell_type": "code",
   "execution_count": 2,
   "id": "b7fc838a",
   "metadata": {},
   "outputs": [
    {
     "name": "stdout",
     "output_type": "stream",
     "text": [
      "['RA', 'Nome', 'Frequencia', 'Prova_1', 'Prova_2', 'Prova_3', 'Prova_4']\n",
      "['110201', 'Antonio Carlos', '20', '6.5', '8.5', '7', '6']\n",
      "['110212', 'Ana Beatriz', '20', '7', '7', '7', '8']\n",
      "['110218', 'Carlos Vernes', '17', '7', '7', '7', '7']\n",
      "['110307', 'Francisco Cunha', '20', '9', '8.5', '8.5', '10']\n",
      "['110275', 'Sandra Rosa', '15', '6.5', '7.5', '7', '7']\n",
      "['110281', 'Juliana Arruda', '18', '7.5', '7', '7.5', '8']\n",
      "['110301', 'Joao Galo', '20', '5', '6.5', '7', '5']\n",
      "['110263', 'José Valente', '20', '10', '10', '10', '10']\n",
      "['110271', 'Maria Ferreira', '19', '9.5', '8', '7', '10']\n",
      "['110236', 'Adriana Tavares', '20', '8', '8', '8', '8']\n"
     ]
    }
   ],
   "source": [
    "with open('dados/alunos.csv', 'r', encoding='utf-8') as arquivo_csv:\n",
    "    leitor = csv.reader(arquivo_csv)\n",
    "    for linha in leitor:\n",
    "        print(linha)"
   ]
  },
  {
   "cell_type": "markdown",
   "id": "fec686bb",
   "metadata": {},
   "source": [
    "2 - Para o segundo exercício, você deve criar um programa que realize uma \n",
    "cópia do arquivo \"alunos.csv\". Essa cópia deve ser um arquivo chamado \n",
    "\"alunos_copia.csv\".\n",
    "\n",
    "Novamente, aqui você também não precisa utilizar a biblioteca CSV mas se \n",
    "usar, seu código pode ser reutilizado na próxima questão sem muitas \n",
    "modificações."
   ]
  },
  {
   "cell_type": "code",
   "execution_count": null,
   "id": "f6bcd808",
   "metadata": {},
   "outputs": [],
   "source": []
  },
  {
   "cell_type": "code",
   "execution_count": null,
   "id": "45976f02",
   "metadata": {},
   "outputs": [],
   "source": []
  },
  {
   "cell_type": "code",
   "execution_count": null,
   "id": "0855157d",
   "metadata": {},
   "outputs": [],
   "source": []
  },
  {
   "cell_type": "markdown",
   "id": "d2d0b2f3",
   "metadata": {},
   "source": [
    "3 - Finalmente chegamos ao último exercício dessa sequência relacionada à \n",
    "manipulação de arquivos.\n",
    "\n",
    "Neste exercício você deve criar um novo arquivo chamado \n",
    "\"alunos_media.csv\". Esse novo arquivo é uma cópia de \"alunos.csv\" porém \n",
    "com uma coluna a mais chamada \"Média\" que vai abrigar os valores das \n",
    "médias das provas de cada aluno da lista.\n",
    "\n",
    "Se você utilizou a biblioteca CSV para realizar os dois primeiros exercícios, \n",
    "muito será reaproveitado aqui. A biblioteca CSV permite a interpretação de \n",
    "cada linha como listas, que são fáceis de manipular.\n"
   ]
  },
  {
   "cell_type": "code",
   "execution_count": null,
   "id": "bee5a78c",
   "metadata": {},
   "outputs": [],
   "source": []
  },
  {
   "cell_type": "code",
   "execution_count": null,
   "id": "4c067c51",
   "metadata": {},
   "outputs": [],
   "source": []
  },
  {
   "cell_type": "markdown",
   "id": "dce18852",
   "metadata": {},
   "source": [
    "4 - Você conhece Star Wars? Se trata, obviamente, da famosa saga espacial \n",
    "criada por George Lucas em 1977 e que deu origem a símbolos do cinema e \n",
    "da cultura pop com o imponente vilão Darth Vader ou o simpático robô \n",
    "R2-D2. A ideia desse exercício é justamente extrair informações do \n",
    "personagem Darth Vader através de uma API de Star Wars chamada SWAPI.\n",
    "\n",
    "Utilize a URL \"https://swapi.dev/api/people/4/\" para fazer a requisição dos \n",
    "dados de Darth Vader e extraia as informações \"name\" (nome), \"height\" \n",
    "(altura), \"mass\" (massa) e \"birth_year\" (ano de nascimento) e imprima cada \n",
    "dado em uma linha.4 - Você conhece Star Wars? Se trata, obviamente, da famosa saga espacial \n",
    "criada por George Lucas em 1977 e que deu origem a símbolos do cinema e \n",
    "da cultura pop com o imponente vilão Darth Vader ou o simpático robô \n",
    "R2-D2. A ideia desse exercício é justamente extrair informações do \n",
    "personagem Darth Vader através de uma API de Star Wars chamada SWAPI.\n",
    "\n",
    "Utilize a URL \"https://swapi.dev/api/people/4/\" para fazer a requisição dos \n",
    "dados de Darth Vader e extraia as informações \"name\" (nome), \"height\" \n",
    "(altura), \"mass\" (massa) e \"birth_year\" (ano de nascimento) e imprima cada \n",
    "dado em uma linha.\n",
    "\n",
    "Dica: caso não se lembre de como fazer isso, assista novamente a aula sobre \n",
    "API porque o exemplo da aula pode te ajudar."
   ]
  },
  {
   "cell_type": "code",
   "execution_count": null,
   "id": "bdcaf929",
   "metadata": {},
   "outputs": [],
   "source": []
  },
  {
   "cell_type": "code",
   "execution_count": null,
   "id": "354c41cc",
   "metadata": {},
   "outputs": [],
   "source": []
  },
  {
   "cell_type": "markdown",
   "id": "c6a9e3e8",
   "metadata": {},
   "source": [
    "5 - Em 2019 surgiram os primeiros casos de COVID-19 que se alastrou pelo \n",
    "mundo resultando numa pandemia. A proposta deste exercício é utilizar \n",
    "uma API com informações de COVID-19 do mundo todo desde o início da \n",
    "proliferação e descobrir que dia o Brasil confirmou o primeiro caso de \n",
    "Coronavírus.\n",
    "\n",
    "Para fazer isso, utilize a URL \"https://api.covid19api.com/country/brazil\" em seu \n",
    "código. Ela retorna uma lista de dicionários, onde cada dicionário traz \n",
    "informações através das chaves:\n",
    "\n",
    "\"ID\", \"Country\", \"CountryCode\", \"Province\", \"City\", \n",
    "\"CityCode\",\"Lat\",\"Lon\",\"Confirmed\",\"Deaths\", \"Recovered\", \"Active\" e \"Date\".\n",
    "\n",
    "Utilize essas informações e retorne a data em que o Brasil confirmou o \n",
    "primeiro caso de COVID"
   ]
  },
  {
   "cell_type": "code",
   "execution_count": null,
   "id": "464dda2a",
   "metadata": {},
   "outputs": [],
   "source": []
  },
  {
   "cell_type": "code",
   "execution_count": null,
   "id": "cbab0bee",
   "metadata": {},
   "outputs": [],
   "source": []
  }
 ],
 "metadata": {
  "kernelspec": {
   "display_name": "Python 3 (ipykernel)",
   "language": "python",
   "name": "python3"
  },
  "language_info": {
   "codemirror_mode": {
    "name": "ipython",
    "version": 3
   },
   "file_extension": ".py",
   "mimetype": "text/x-python",
   "name": "python",
   "nbconvert_exporter": "python",
   "pygments_lexer": "ipython3",
   "version": "3.9.12"
  }
 },
 "nbformat": 4,
 "nbformat_minor": 5
}
