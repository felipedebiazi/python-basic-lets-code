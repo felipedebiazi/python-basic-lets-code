{
 "cells": [
  {
   "cell_type": "markdown",
   "id": "7ffd6684",
   "metadata": {},
   "source": [
    "Questão 1.\n",
    "Faça um programa que peça ao usuário um número e imprima todos os\n",
    "números de um até o número que o usuário informar.\n",
    "\n",
    "💡 Exemplo:\n",
    "Se o usuário informar o número 5, seu programa deverá imprimir: 1 2 3 4\n",
    "5"
   ]
  },
  {
   "cell_type": "code",
   "execution_count": 11,
   "id": "65bbc05f",
   "metadata": {},
   "outputs": [
    {
     "name": "stdout",
     "output_type": "stream",
     "text": [
      "Digite um valor de numeros inteiros: 5\n",
      "1\n",
      "2\n",
      "3\n",
      "4\n",
      "5\n"
     ]
    }
   ],
   "source": [
    "numero = input('Digite um valor de numeros inteiros: ')\n",
    "numero = int(numero)\n",
    "count = 1\n",
    "\n",
    "while count <= numero:\n",
    "    print(count)\n",
    "    count = count +1   "
   ]
  },
  {
   "cell_type": "markdown",
   "id": "7be41ae6",
   "metadata": {},
   "source": [
    "Questão 2.\n",
    "Crie um programa que leia um valor qualquer e apresente uma mensagem dizendo em qual\n",
    "dos seguintes intervalos ([0,25], (25,50], (50,75], (75,100]) este valor se encontra. Caso o valor não\n",
    "esteja em nenhum destes intervalos, deverá ser impressa a mensagem “Fora de intervalo”. Veja\n",
    "alguns exemplo abaixo:\n",
    "                                            \n",
    "💡 Entrada: 25.01 | Saída: (25,50]\n",
    "Entrada: 25.00 | Saída: [0,25]\n",
    "Entrada: 100.00 | Saída: (75,100]\n",
    "Entrada: -25.02 | Saída: Fora de intervalo\n"
   ]
  },
  {
   "cell_type": "code",
   "execution_count": 18,
   "id": "180d4844",
   "metadata": {},
   "outputs": [
    {
     "name": "stdout",
     "output_type": "stream",
     "text": [
      "Digite um valor: 25\n",
      "(25, 50]\n"
     ]
    }
   ],
   "source": [
    "valor = input('Digite um valor: ')\n",
    "valor = float(valor)\n",
    "\n",
    "intervalo_1 = '([0, 25]'\n",
    "intervalo_2 = '(25, 50]'\n",
    "intervalo_3 = '(50, 75]'\n",
    "intervalo_4 = '(75, 100])'\n",
    "\n",
    "if valor >= 0 and valor < 25:\n",
    "    print(intervalo_1)\n",
    "elif valor >= 25 and valor < 50:\n",
    "    print(intervalo_2)\n",
    "elif valor >= 50 and valor < 75:\n",
    "    print(intervalo_3)\n",
    "elif valor >= 75 and valor <= 100:\n",
    "    print (intervalo_4)\n",
    "else:\n",
    "    print('fora de intervalo!')\n"
   ]
  },
  {
   "cell_type": "markdown",
   "id": "82f0595c",
   "metadata": {},
   "source": [
    "Questão 3.\n",
    "Crie uma função que recebe o valor do raio de um círculo como parâmetro e retorna o valor da\n",
    "área desse círculo. Lembrando que a área de círculo é dada pela equação: A = ℼ r^2.\n",
    "    \n",
    "💡 Dica: Para utilizar um valor mais preciso do pi (ℼ), você pode importar a biblioteca math, e\n",
    "utilizar o math.pi, como ilustrado no código abaixo:\n",
    "    \n",
    "import math\n",
    "\n",
    "print(math.pi)"
   ]
  },
  {
   "cell_type": "code",
   "execution_count": 20,
   "id": "89692dbd",
   "metadata": {},
   "outputs": [
    {
     "name": "stdout",
     "output_type": "stream",
     "text": [
      "3.141592653589793\n"
     ]
    }
   ],
   "source": [
    "import math\n",
    "print(math.pi)"
   ]
  },
  {
   "cell_type": "code",
   "execution_count": 26,
   "id": "5ebaf4c5",
   "metadata": {
    "scrolled": true
   },
   "outputs": [
    {
     "name": "stdout",
     "output_type": "stream",
     "text": [
      "Digite o valor do raio: 5\n",
      "78.53981633974483\n"
     ]
    }
   ],
   "source": [
    "raio = input('Digite o valor do raio: ')\n",
    "raio = float(raio)\n",
    "\n",
    "pi = 3.141592653589793\n",
    "area = pi * (math.pow(raio, 2))\n",
    "\n",
    "print(area)"
   ]
  },
  {
   "cell_type": "markdown",
   "id": "0ca32109",
   "metadata": {},
   "source": [
    "Questão 4.\n",
    "Faça um programa que peça 2 números inteiros e um número real,\n",
    "calcule e mostre:\n",
    "a) o produto entre o dobro do primeiro e a metade do segundo.\n",
    "b) a soma entre o triplo do primeiro e o terceiro.\n",
    "c) o terceiro elevado ao cubo."
   ]
  },
  {
   "cell_type": "code",
   "execution_count": 34,
   "id": "ed870b38",
   "metadata": {},
   "outputs": [
    {
     "name": "stdout",
     "output_type": "stream",
     "text": [
      "entre com o primeiro valor inteiro:2\n",
      "entre com o segundo valor inteiro:5\n",
      "entre com o terceiro valor, um numero real:2.5\n",
      "10.0\n",
      "8.5\n",
      "15.625\n"
     ]
    }
   ],
   "source": [
    "num1 = int(input('entre com o primeiro valor inteiro:'))\n",
    "num2 = int(input('entre com o segundo valor inteiro:'))\n",
    "num3 = float(input('entre com o terceiro valor, um numero real:'))\n",
    "\n",
    "calc_1 = (num1 * 2) * (num2 / 2)\n",
    "calc_2 = (num1 * 3) + num3 \n",
    "calc_3 = (num3 ** 3)\n",
    "\n",
    "print(calc_1)\n",
    "print(calc_2)\n",
    "print(calc_3)\n",
    "            "
   ]
  },
  {
   "cell_type": "markdown",
   "id": "9656429b",
   "metadata": {},
   "source": [
    "Questão 5.\n",
    "Vamos fazer um programa para verificar quem é o assassino de um\n",
    "crime. Para descobrir o assassino, a polícia faz um pequeno questionário\n",
    "com 5 perguntas onde a resposta só pode ser sim ou não:\n",
    "1. Mora perto da vítima?\n",
    "2. Já trabalhou com a vítima?\n",
    "3. Telefonou para a vítima?\n",
    "4. Esteve no local do crime?\n",
    "5. Devia para a vítima?\n",
    "\n",
    "Cada resposta sim dá um ponto para o suspeito. A polícia considera que os suspeitos com 5\n",
    "pontos são os assassinos, com 4 a 3 pontos são cúmplices e 2 pontos são apenas suspeitos,\n",
    "necessitando de outras investigações. Valores abaixo de 2 são liberados.\n",
    "No seu programa, você deve fazer essas perguntas e, de acordo com as respostas do usuário,\n",
    "você vai informar como a polícia o considera."
   ]
  },
  {
   "cell_type": "code",
   "execution_count": 35,
   "id": "67bf1914",
   "metadata": {},
   "outputs": [
    {
     "name": "stdout",
     "output_type": "stream",
     "text": [
      "Mora perto da vítima? nao \n",
      "Já trabalhou com a vítima? sim\n",
      "Telefonou para a vítima? sim\n",
      "Esteve no local do crime? nao\n",
      "Devia para a vítima? sim\n",
      "Cumplices!\n"
     ]
    }
   ],
   "source": [
    "pontos = 0 \n",
    "    \n",
    "pergunta_1 = input('Mora perto da vítima? ')\n",
    "if pergunta_1 == 'sim':\n",
    "    pontos = pontos + 1\n",
    "else: ''\n",
    "\n",
    "pergunta_2 = input('Já trabalhou com a vítima? ')\n",
    "if pergunta_2 == 'sim':\n",
    "    pontos = pontos + 1\n",
    "else:''\n",
    "\n",
    "pergunta_3 = input('Telefonou para a vítima? ')\n",
    "if pergunta_3 == 'sim':\n",
    "    pontos = pontos + 1\n",
    "else:''\n",
    "\n",
    "pergunta_4 = input('Esteve no local do crime? ')\n",
    "if pergunta_4 == 'sim':\n",
    "    pontos = pontos + 1\n",
    "else:''\n",
    "\n",
    "pergunta_5 = input('Devia para a vítima? ')\n",
    "if pergunta_5 == 'sim':\n",
    "    pontos = pontos + 1\n",
    "else:''\n",
    "\n",
    "if pontos == 5:\n",
    "    print('Assasino!')\n",
    "elif pontos < 5 and pontos > 2:\n",
    "    print('Cumplices!')\n",
    "elif pontos == 2:\n",
    "    print('Suspeito!')\n",
    "else:\n",
    "    print('Liberado!')\n",
    "    "
   ]
  },
  {
   "cell_type": "markdown",
   "id": "478ea21a",
   "metadata": {},
   "source": [
    "Questão 6.\n",
    "Faça uma função que recebe uma lista de números e retorna a soma dos elementos dessa lista."
   ]
  },
  {
   "cell_type": "code",
   "execution_count": 41,
   "id": "63690f45",
   "metadata": {},
   "outputs": [
    {
     "name": "stdout",
     "output_type": "stream",
     "text": [
      "Soma da lista é de: 110\n"
     ]
    }
   ],
   "source": [
    "lista = [10, 5, 3, 5, 6, 8, 73]\n",
    "count = 0\n",
    "soma = 0\n",
    "\n",
    "for x in (lista):\n",
    "    soma = soma + int(lista[count])\n",
    "    count = count + 1\n",
    "    \n",
    "print(f'Soma da lista é de: {soma}')"
   ]
  },
  {
   "cell_type": "markdown",
   "id": "2f77209b",
   "metadata": {},
   "source": [
    "Questão 7.\n",
    "Faça um programa que leia as coordenadas de 2 (dois) pontos em um plano cartesiano 2D: a\n",
    "coordenada x do primeiro ponto (x_1), a coordenada y do primeiro ponto (y_1), a coordenada x do\n",
    "segundo ponto (x_2) e a coordenada y do segundo ponto (y_2). Em seguida, calcule a distância\n",
    "euclidiana entre os pontos, utilizando a equação abaixo:\n",
    "𝑑 = √(𝑥2 − 𝑥1)² + (𝑦2 − 𝑦1)²"
   ]
  },
  {
   "cell_type": "code",
   "execution_count": 23,
   "id": "966ac8a6",
   "metadata": {},
   "outputs": [
    {
     "name": "stdout",
     "output_type": "stream",
     "text": [
      "8.246211251235321\n"
     ]
    }
   ],
   "source": [
    "import math\n",
    "\n",
    "x_1 = 5\n",
    "y_1 = 10\n",
    "x_2 = 3\n",
    "y_2 = 2 \n",
    "\n",
    "distancia =  math.sqrt((math.pow((x_2 - x_1), 2)) + (math.pow((y_2 - y_1), 2)))\n",
    "print(distancia)"
   ]
  },
  {
   "cell_type": "markdown",
   "id": "35d9d8ea",
   "metadata": {},
   "source": [
    "Questão 8.\n",
    "Calcule a soma de mil termos dos inversos dos fatoriais: 1/(1!) + 1/(2!) + 1/(3!) + 1/(4!) + ...\n",
    "Dica: Use três variáveis:\n",
    "● um contador;\n",
    "● uma variável para soma;\n",
    "● e uma variável para os termos.\n",
    "Lembre-se de que 4! = 4 * *3 ** 2 * *1, que também é igual a 4 ** 3!"
   ]
  },
  {
   "cell_type": "code",
   "execution_count": 41,
   "id": "1f12e159",
   "metadata": {},
   "outputs": [
    {
     "name": "stdout",
     "output_type": "stream",
     "text": [
      "402790050531223457680670558292183044930441094551528966419334642920075902370082550849878938011122874840322664395727767319128483846892726398968790560901035018977865543415443376965144616549510538851077440410165819782073475583082079396504111380884916810768467471317168913183948275897490803646698793846190852594417739671786914563472162093180956284720843607311204509397095907530114810381703803860648328656344389023077975647748628886817466804724858587747840936784462436173977429991182753207302348016538494642001301432395279726745538178727708503090870745742249581124437084158031806471602854863650302741825130214652788342621283870175833906572656890104432413095171095723550851047360182700817666447833450097928957386876271765554137407111747666512309980678539886786878262902584539118231519316835523885400137767203426696953126303292828224235349134630280084480064650497764755473824102259453127730077777531063115138764952527597098445380046443997540925880086936317933421768424925084707414812932329166745886234137226923024813461900363225999464524935227947647167947434411637139203517404371214232998239493954562323327076903915931443305369962856388265027346155623332543302943446674383336900484885947609695640139797208838438493998636482572950930777919644406154624084228042985270573774543689565298092301062689807689071120317578510142181892798247199071452022029172707400688758980305702923813291544851703914211657597582497807598793035565731652297925769886549168450867091163868402442018371341022143349040941897422377931540131712376088451926646802255265721820332564453961091792448710886674897251899281432897966817352381951694370184383299109654078410356489144960977274480320655205474842571310858767154579079644215514199003832599232631020684528203955813111140473074686810426051322892063650122841004997271652977702547274337834459757112850838135183696311712170990224739928697694772853140476802033735594574707189941820656793611572800671948131128109558012358679446259496244143021997936801273888393102412918463505832701613704464047394891693567824946365095976820092895872874833067345472399549213736568277881574159120670765215962463587184455433922702506813953637742383768964226648365610070168839324749896910992390804658988479107678562550844858514512762455637677863067821690083222834405613388709119188719479181528190836888908152845729021513491658586509889455613570273121541638995145894561079999213500076101248781500642979091198044736325729107144579768273776743716439557581557253878204647391176582851167312182026188795156620056856503340092247479478684738621107994804323593105039052556442336528920420940313\n"
     ]
    }
   ],
   "source": [
    "num = 1000\n",
    "def soma_fatorial(n):\n",
    "    soma = 0\n",
    "    for c in range(1, n + 1):\n",
    "        prod = 1\n",
    "        for d in range(c, 0, -1):\n",
    "            prod *= d\n",
    "        soma += prod\n",
    "    return soma\n",
    "\n",
    "print(soma_fatorial(num))"
   ]
  },
  {
   "cell_type": "markdown",
   "id": "adbef697",
   "metadata": {},
   "source": [
    "Questão 9.\n",
    "Crie (manualmente ou sorteando os números) uma lista de 10 números e\n",
    "imprima:\n",
    "1. uma lista com os 4 primeiros números;\n",
    "2. uma lista com os 5 últimos números;\n",
    "3. uma lista contendo apenas os elementos das posições pares;\n",
    "4. uma lista contendo apenas os elementos das posições ímpares;\n",
    "5. a lista inversa da lista sorteada (isto é, uma lista que começa com\n",
    "o último elemento da lista sorteada e termina com o primeiro);\n",
    "6. uma lista inversa dos 5 primeiros números;\n",
    "7. uma lista inversa dos 5 últimos números."
   ]
  },
  {
   "cell_type": "code",
   "execution_count": 21,
   "id": "538b3333",
   "metadata": {},
   "outputs": [
    {
     "name": "stdout",
     "output_type": "stream",
     "text": [
      "[46, 54, 14, 57, 64, 5, 62, 6, 72, 36]\n",
      "4 primeiros números: [46, 54, 14, 57]\n",
      "5 últimos números: [5, 62, 6, 72, 36]\n",
      "apenas os elementos das posições pares: [14, 64, 62, 72]\n",
      "apenas os elementos das posições ímpares: [54, 57, 5, 6, 36]\n",
      "lista inversa: [36, 72, 6, 62, 5, 64, 57, 14, 54, 46]\n",
      "5 primeiros números inversos: [36, 72, 6, 62, 5]\n",
      "5 últimos números inversos: [64, 57, 14, 54, 46]\n"
     ]
    }
   ],
   "source": [
    "import random\n",
    "#Gerando 10 numeros aleatórios entre 0 e 100\n",
    "randomlist = random.sample(range(0, 100), 10)\n",
    "print(randomlist)\n",
    "\n",
    "print(f'4 primeiros números: {randomlist[:4]}')\n",
    "print(f'5 últimos números: {randomlist[5:]}')\n",
    "print(f'apenas os elementos das posições pares: {randomlist[2::2]}')\n",
    "print(f'apenas os elementos das posições ímpares: {randomlist[1::2]}')\n",
    "print(f'lista inversa: {randomlist[::-1]}')\n",
    "print(f'5 primeiros números inversos: {randomlist[:4:-1]}')\n",
    "print(f'5 últimos números inversos: {randomlist[4::-1]}')"
   ]
  }
 ],
 "metadata": {
  "kernelspec": {
   "display_name": "Python 3 (ipykernel)",
   "language": "python",
   "name": "python3"
  },
  "language_info": {
   "codemirror_mode": {
    "name": "ipython",
    "version": 3
   },
   "file_extension": ".py",
   "mimetype": "text/x-python",
   "name": "python",
   "nbconvert_exporter": "python",
   "pygments_lexer": "ipython3",
   "version": "3.9.12"
  }
 },
 "nbformat": 4,
 "nbformat_minor": 5
}
