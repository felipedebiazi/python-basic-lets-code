{
 "cells": [
  {
   "cell_type": "markdown",
   "id": "f4fd094a",
   "metadata": {},
   "source": [
    "## Dicionários"
   ]
  },
  {
   "cell_type": "code",
   "execution_count": 1,
   "id": "cd9ad26a",
   "metadata": {},
   "outputs": [],
   "source": [
    "dados_cidade = {\n",
    "    'nome': 'São Paulo',\n",
    "    'estado': 'SP',\n",
    "    'area_km2': 1521,\n",
    "    'pop_milhoes': 12.18\n",
    "}"
   ]
  },
  {
   "cell_type": "code",
   "execution_count": 2,
   "id": "3a86b50b",
   "metadata": {},
   "outputs": [
    {
     "name": "stdout",
     "output_type": "stream",
     "text": [
      "<class 'dict'>\n"
     ]
    }
   ],
   "source": [
    "print(type(dados_cidade))"
   ]
  },
  {
   "cell_type": "code",
   "execution_count": 3,
   "id": "b7efc8a9",
   "metadata": {},
   "outputs": [
    {
     "name": "stdout",
     "output_type": "stream",
     "text": [
      "{'nome': 'São Paulo', 'estado': 'SP', 'area_km2': 1521, 'pop_milhoes': 12.18}\n"
     ]
    }
   ],
   "source": [
    "print(dados_cidade)"
   ]
  },
  {
   "cell_type": "code",
   "execution_count": 4,
   "id": "f73389a1",
   "metadata": {},
   "outputs": [],
   "source": [
    "dados_cidade['país'] = 'Brasil'"
   ]
  },
  {
   "cell_type": "code",
   "execution_count": 5,
   "id": "44b890c2",
   "metadata": {},
   "outputs": [
    {
     "name": "stdout",
     "output_type": "stream",
     "text": [
      "{'nome': 'São Paulo', 'estado': 'SP', 'area_km2': 1521, 'pop_milhoes': 12.18, 'país': 'Brasil'}\n"
     ]
    }
   ],
   "source": [
    "print(dados_cidade)"
   ]
  },
  {
   "cell_type": "code",
   "execution_count": 6,
   "id": "7aa08e45",
   "metadata": {},
   "outputs": [
    {
     "name": "stdout",
     "output_type": "stream",
     "text": [
      "São Paulo\n"
     ]
    }
   ],
   "source": [
    "print(dados_cidade['nome'])"
   ]
  },
  {
   "cell_type": "code",
   "execution_count": 7,
   "id": "c9a03a0b",
   "metadata": {},
   "outputs": [
    {
     "name": "stdout",
     "output_type": "stream",
     "text": [
      "{'nome': 'São Paulo', 'estado': 'SP', 'area_km2': 1500, 'pop_milhoes': 12.18, 'país': 'Brasil'}\n"
     ]
    }
   ],
   "source": [
    "dados_cidade['area_km2'] = 1500\n",
    "print(dados_cidade)"
   ]
  },
  {
   "cell_type": "code",
   "execution_count": 15,
   "id": "52739757",
   "metadata": {},
   "outputs": [],
   "source": [
    "dados_cidade_2 = dados_cidade"
   ]
  },
  {
   "cell_type": "code",
   "execution_count": 16,
   "id": "667dd8a0",
   "metadata": {},
   "outputs": [],
   "source": [
    "dados_cidade_2['nome'] = 'Orleans'"
   ]
  },
  {
   "cell_type": "code",
   "execution_count": 17,
   "id": "6800cf76",
   "metadata": {},
   "outputs": [
    {
     "name": "stdout",
     "output_type": "stream",
     "text": [
      "{'nome': 'Orleans', 'estado': 'SP', 'area_km2': 1500, 'pop_milhoes': 12.18, 'país': 'Brasil'}\n",
      "{'nome': 'Orleans', 'estado': 'SP', 'area_km2': 1500, 'pop_milhoes': 12.18, 'país': 'Brasil'}\n"
     ]
    }
   ],
   "source": [
    "print(dados_cidade)\n",
    "print(dados_cidade_2)"
   ]
  },
  {
   "cell_type": "code",
   "execution_count": 18,
   "id": "c769761e",
   "metadata": {},
   "outputs": [],
   "source": [
    "dados_cidades_3 = dados_cidade.copy()"
   ]
  },
  {
   "cell_type": "code",
   "execution_count": 12,
   "id": "eff98830",
   "metadata": {},
   "outputs": [],
   "source": [
    "dados_cidades_3['estado'] = 'SC'"
   ]
  },
  {
   "cell_type": "code",
   "execution_count": 13,
   "id": "529e01c1",
   "metadata": {},
   "outputs": [
    {
     "name": "stdout",
     "output_type": "stream",
     "text": [
      "{'nome': 'Orleans', 'estado': 'SC', 'area_km2': 1500, 'pop_milhoes': 12.18, 'país': 'Brasil'}\n"
     ]
    }
   ],
   "source": [
    "print(dados_cidades_3)"
   ]
  },
  {
   "cell_type": "code",
   "execution_count": 14,
   "id": "06bf833a",
   "metadata": {},
   "outputs": [
    {
     "name": "stdout",
     "output_type": "stream",
     "text": [
      "{'nome': 'Orleans', 'estado': 'SP', 'area_km2': 1500, 'pop_milhoes': 12.18, 'país': 'Brasil'}\n"
     ]
    }
   ],
   "source": [
    "print(dados_cidade)"
   ]
  },
  {
   "cell_type": "code",
   "execution_count": 19,
   "id": "7f8581a0",
   "metadata": {},
   "outputs": [
    {
     "name": "stdout",
     "output_type": "stream",
     "text": [
      "{'nome': 'Orleans', 'estado': 'SP', 'area_km2': 1500, 'pop_milhoes': 15, 'país': 'Brasil', 'fundacao': '30/08/1912'}\n"
     ]
    }
   ],
   "source": [
    "novos_dados = {\n",
    "    'pop_milhoes': 15,\n",
    "    'fundacao': '30/08/1912'\n",
    "}\n",
    "\n",
    "dados_cidade.update(novos_dados)\n",
    "print(dados_cidade)"
   ]
  },
  {
   "cell_type": "code",
   "execution_count": 20,
   "id": "173cdc84",
   "metadata": {},
   "outputs": [
    {
     "ename": "KeyError",
     "evalue": "'prefeito'",
     "output_type": "error",
     "traceback": [
      "\u001b[1;31m---------------------------------------------------------------------------\u001b[0m",
      "\u001b[1;31mKeyError\u001b[0m                                  Traceback (most recent call last)",
      "Input \u001b[1;32mIn [20]\u001b[0m, in \u001b[0;36m<cell line: 1>\u001b[1;34m()\u001b[0m\n\u001b[1;32m----> 1\u001b[0m \u001b[43mdados_cidade\u001b[49m\u001b[43m[\u001b[49m\u001b[38;5;124;43m'\u001b[39;49m\u001b[38;5;124;43mprefeito\u001b[39;49m\u001b[38;5;124;43m'\u001b[39;49m\u001b[43m]\u001b[49m\n",
      "\u001b[1;31mKeyError\u001b[0m: 'prefeito'"
     ]
    }
   ],
   "source": [
    "dados_cidade['prefeito']"
   ]
  },
  {
   "cell_type": "code",
   "execution_count": 21,
   "id": "ca877cfe",
   "metadata": {},
   "outputs": [
    {
     "name": "stdout",
     "output_type": "stream",
     "text": [
      "None\n"
     ]
    }
   ],
   "source": [
    "print(dados_cidade.get('prefeito'))"
   ]
  },
  {
   "cell_type": "code",
   "execution_count": 22,
   "id": "4afe8737",
   "metadata": {},
   "outputs": [
    {
     "name": "stdout",
     "output_type": "stream",
     "text": [
      "dict_keys(['nome', 'estado', 'area_km2', 'pop_milhoes', 'país', 'fundacao'])\n",
      "-------\n",
      "dict_values(['Orleans', 'SP', 1500, 15, 'Brasil', '30/08/1912'])\n",
      "-------\n",
      "dict_items([('nome', 'Orleans'), ('estado', 'SP'), ('area_km2', 1500), ('pop_milhoes', 15), ('país', 'Brasil'), ('fundacao', '30/08/1912')])\n"
     ]
    }
   ],
   "source": [
    "print(dados_cidade.keys()) #retorna uma lsita de chaves de um dicionário\n",
    "print('-------')\n",
    "print(dados_cidade.values()) # retorna uma lista de valores de um dicionário\n",
    "print('-------')\n",
    "print(dados_cidade.items()) # retorna uma lista de tuplas (chave, valor) de um dicionário"
   ]
  },
  {
   "cell_type": "code",
   "execution_count": null,
   "id": "c0e543ef",
   "metadata": {},
   "outputs": [],
   "source": []
  }
 ],
 "metadata": {
  "kernelspec": {
   "display_name": "Python 3 (ipykernel)",
   "language": "python",
   "name": "python3"
  },
  "language_info": {
   "codemirror_mode": {
    "name": "ipython",
    "version": 3
   },
   "file_extension": ".py",
   "mimetype": "text/x-python",
   "name": "python",
   "nbconvert_exporter": "python",
   "pygments_lexer": "ipython3",
   "version": "3.9.12"
  }
 },
 "nbformat": 4,
 "nbformat_minor": 5
}
