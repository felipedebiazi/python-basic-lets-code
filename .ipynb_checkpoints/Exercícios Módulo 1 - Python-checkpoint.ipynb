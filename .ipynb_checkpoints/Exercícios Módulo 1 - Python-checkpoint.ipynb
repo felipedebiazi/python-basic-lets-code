{
 "cells": [
  {
   "cell_type": "markdown",
   "id": "e72a86e3",
   "metadata": {},
   "source": [
    "1. Faça um programa que peça um valor monetário e diminua-o em 15%. Seu \n",
    "programa deve imprimir a mensagem “O novo valor é [valor]”.\n"
   ]
  },
  {
   "cell_type": "code",
   "execution_count": 15,
   "id": "846b3cc0",
   "metadata": {
    "scrolled": true
   },
   "outputs": [
    {
     "name": "stdout",
     "output_type": "stream",
     "text": [
      "Digite um valor de entrada: 300\n",
      "Valor do montante final é R$:255.0\n"
     ]
    }
   ],
   "source": [
    "entrada = input('Digite um valor de entrada: ')\n",
    "taxa = 0.15\n",
    "valor = float(entrada)\n",
    "\n",
    "montante = (valor) - (valor*0.15)\n",
    "\n",
    "print(f'Valor do montante final é R$:{montante}')"
   ]
  },
  {
   "cell_type": "markdown",
   "id": "16c0c6ba",
   "metadata": {},
   "source": [
    "2. Faça um programa que leia a validade das informações:\n",
    "    \n",
    "a. Idade: entre 0 e 150;\n",
    "b. Salário: maior que 0;\n",
    "c. Sexo: M, F ou Outro;\n",
    "\n",
    "O programa deve imprimir uma mensagem de erro para cada informação \n",
    "inválida."
   ]
  },
  {
   "cell_type": "code",
   "execution_count": 31,
   "id": "e8079def",
   "metadata": {},
   "outputs": [
    {
     "name": "stdout",
     "output_type": "stream",
     "text": [
      "Entre com uma idade: 60\n",
      "Valor do salario: -150\n",
      "valor inválido, tente novamente\n",
      "Entre com uma idade: 22\n",
      "Valor do salario: 300\n",
      "Qual seu gênero: M, F ou Outro M\n",
      "Essa pessoa tem 22 anos, recebe um salário de 300 reais e se identifica como genero M\n"
     ]
    }
   ],
   "source": [
    "count = 0\n",
    "while count < 1:\n",
    "    \n",
    "    idade = input('Entre com uma idade: ')\n",
    "    if int(idade) > 0 and int(idade) < 150:\n",
    "        salario = input('Valor do salario: ')\n",
    "        if float(salario) > 0:\n",
    "            sexo = input('Qual seu gênero: M, F ou Outro ') \n",
    "            print(f'Essa pessoa tem {idade} anos, recebe um salário de {salario} reais e se identifica como genero {sexo}')\n",
    "            count = count + 1\n",
    "        else:\n",
    "            print('valor inválido, tente novamente')\n",
    "    else:\n",
    "        print('idade invalida, tente novamente')\n",
    "    \n",
    "        "
   ]
  },
  {
   "cell_type": "markdown",
   "id": "be9d7168",
   "metadata": {},
   "source": [
    "3. Vamos fazer um programa para verificar quem é o assassino de um crime. \n",
    "Para descobrir o assassino, a polícia faz um pequeno questionário com 5 \n",
    "perguntas onde a resposta só pode ser sim ou não:\n",
    "\n",
    "a. Mora perto da vítima?\n",
    "b. Já trabalhou com a vítima?\n",
    "c. Telefonou para a vítima?\n",
    "d. Esteve no local do crime?\n",
    "e. Devia para a vítima?\n",
    "\n",
    "Cada resposta sim dá um ponto para o suspeito. A polícia considera que os \n",
    "suspeitos com 5 pontos são os assassinos, com 4 a 3 pontos são cúmplices e \n",
    "2 pontos são apenas suspeitos, necessitando outras investigações. Valores \n",
    "iguais ou abaixo de 1 são liberados.\n"
   ]
  },
  {
   "cell_type": "code",
   "execution_count": 33,
   "id": "6f10aff2",
   "metadata": {},
   "outputs": [
    {
     "name": "stdout",
     "output_type": "stream",
     "text": [
      "Mora perto da vítima? nao\n",
      "Já trabalhou com a vítima? nao\n",
      "Telefonou para a vítima? sim\n",
      "Esteve no local do crime? sim\n",
      "Devia para a vítima? nao\n",
      "Suspeito!\n"
     ]
    }
   ],
   "source": [
    "pontos = 0 \n",
    "    \n",
    "pergunta_1 = input('Mora perto da vítima? ')\n",
    "if pergunta_1 == 'sim':\n",
    "    pontos = pontos + 1\n",
    "else: ''\n",
    "\n",
    "pergunta_2 = input('Já trabalhou com a vítima? ')\n",
    "if pergunta_2 == 'sim':\n",
    "    pontos = pontos + 1\n",
    "else:''\n",
    "\n",
    "pergunta_3 = input('Telefonou para a vítima? ')\n",
    "if pergunta_3 == 'sim':\n",
    "    pontos = pontos + 1\n",
    "else:''\n",
    "\n",
    "pergunta_4 = input('Esteve no local do crime? ')\n",
    "if pergunta_4 == 'sim':\n",
    "    pontos = pontos + 1\n",
    "else:''\n",
    "\n",
    "pergunta_5 = input('Devia para a vítima? ')\n",
    "if pergunta_5 == 'sim':\n",
    "    pontos = pontos + 1\n",
    "else:''\n",
    "\n",
    "if pontos == 5:\n",
    "    print('Assasino!')\n",
    "elif pontos < 5 and pontos > 2:\n",
    "    print('Cumplices!')\n",
    "elif pontos == 2:\n",
    "    print('Suspeito!')\n",
    "else:\n",
    "    print('Liberado!')\n",
    "    "
   ]
  },
  {
   "cell_type": "markdown",
   "id": "97731012",
   "metadata": {},
   "source": [
    "4. Faça um programa que imprima a tabuada do 9 (de 9*1 a 9*10) usando loops."
   ]
  },
  {
   "cell_type": "code",
   "execution_count": 7,
   "id": "9f7e71cb",
   "metadata": {},
   "outputs": [
    {
     "name": "stdout",
     "output_type": "stream",
     "text": [
      "9 x 1 = 9\n",
      "9 x 2 = 18\n",
      "9 x 3 = 27\n",
      "9 x 4 = 36\n",
      "9 x 5 = 45\n",
      "9 x 6 = 54\n",
      "9 x 7 = 63\n",
      "9 x 8 = 72\n",
      "9 x 9 = 81\n",
      "9 x 10 = 90\n"
     ]
    }
   ],
   "source": [
    "numero = 9 \n",
    "count = 1 \n",
    "\n",
    "while count <= 10:\n",
    "    tabuada = (numero * count)\n",
    "    print(f'9 x {count} = {tabuada}')\n",
    "    count = count + 1"
   ]
  }
 ],
 "metadata": {
  "kernelspec": {
   "display_name": "Python 3 (ipykernel)",
   "language": "python",
   "name": "python3"
  },
  "language_info": {
   "codemirror_mode": {
    "name": "ipython",
    "version": 3
   },
   "file_extension": ".py",
   "mimetype": "text/x-python",
   "name": "python",
   "nbconvert_exporter": "python",
   "pygments_lexer": "ipython3",
   "version": "3.9.12"
  }
 },
 "nbformat": 4,
 "nbformat_minor": 5
}
