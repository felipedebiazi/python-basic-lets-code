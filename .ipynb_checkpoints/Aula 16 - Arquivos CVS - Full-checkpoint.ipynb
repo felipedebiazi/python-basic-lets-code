{
 "cells": [
  {
   "cell_type": "markdown",
   "id": "5adadd31",
   "metadata": {},
   "source": [
    "## Manipulação de Arquivos CSV"
   ]
  },
  {
   "cell_type": "code",
   "execution_count": 5,
   "id": "29d2020e",
   "metadata": {},
   "outputs": [],
   "source": [
    "import csv"
   ]
  },
  {
   "cell_type": "code",
   "execution_count": 8,
   "id": "646d2687",
   "metadata": {},
   "outputs": [
    {
     "name": "stdout",
     "output_type": "stream",
     "text": [
      "['RA', 'Nome', 'Frequencia', 'Prova_1', 'Prova_2', 'Prova_3', 'Prova_4']\n",
      "['110201', 'Antonio Carlos', '20', '6.5', '8.5', '7', '6']\n",
      "['110212', 'Ana Beatriz', '20', '7', '7', '7', '8']\n",
      "['110218', 'Carlos Vernes', '17', '7', '7', '7', '7']\n",
      "['110307', 'Francisco Cunha', '20', '9', '8.5', '8.5', '10']\n",
      "['110275', 'Sandra Rosa', '15', '6.5', '7.5', '7', '7']\n",
      "['110281', 'Juliana Arruda', '18', '7.5', '7', '7.5', '8']\n",
      "['110301', 'Joao Galo', '20', '5', '6.5', '7', '5']\n",
      "['110263', 'José Valente', '20', '10', '10', '10', '10']\n",
      "['110271', 'Maria Ferreira', '19', '9.5', '8', '7', '10']\n",
      "['110236', 'Adriana Tavares', '20', '8', '8', '8', '8']\n"
     ]
    }
   ],
   "source": [
    "with open('arquivo_csv.csv', 'r', encoding='utf-8') as arquivo_csv:\n",
    "    leitor = csv.reader(arquivo_csv)\n",
    "    for linha in leitor:\n",
    "        print(linha)"
   ]
  },
  {
   "cell_type": "code",
   "execution_count": 10,
   "id": "9cb4cdfc",
   "metadata": {},
   "outputs": [
    {
     "name": "stdout",
     "output_type": "stream",
     "text": [
      "['110307', 'Francisco Cunha', '20', '9', '8.5', '8.5', '10']\n",
      "['110263', 'José Valente', '20', '10', '10', '10', '10']\n",
      "['110271', 'Maria Ferreira', '19', '9.5', '8', '7', '10']\n"
     ]
    }
   ],
   "source": [
    "with open('arquivo_csv.csv', 'r', encoding='utf-8') as arquivo_csv:\n",
    "    leitor = csv.reader(arquivo_csv)\n",
    "    header = next(leitor)\n",
    "    for linha in leitor:\n",
    "        if float(linha[3]) > 8:\n",
    "            print(linha)"
   ]
  },
  {
   "cell_type": "code",
   "execution_count": 12,
   "id": "4c6d8485",
   "metadata": {},
   "outputs": [],
   "source": [
    "with open('users.csv', 'w', encoding='utf-8', newline='') as arquivos_users:\n",
    "    escritor = csv.writer(arquivos_users)\n",
    "    escritor.writerow(['nome', 'sobrenome', 'email', 'genero'])\n",
    "    escritor.writerow(['Felipe', 'Debiazi', 'debiazi@gmail.com', 'Masculino'])"
   ]
  },
  {
   "cell_type": "markdown",
   "id": "2dd423dc",
   "metadata": {},
   "source": [
    "Exemplo de Cadastro"
   ]
  },
  {
   "cell_type": "code",
   "execution_count": 17,
   "id": "ca80f74b",
   "metadata": {},
   "outputs": [
    {
     "name": "stdout",
     "output_type": "stream",
     "text": [
      "O que deseja fazer?\n",
      " 1 - Cadastrar\n",
      " 0 - Sair\n",
      "1\n",
      "Qual seu nome? Felipe\n",
      "Qual seu sobrenome? Debiazi\n",
      "O que deseja fazer?\n",
      " 1 - Cadastrar\n",
      " 0 - Sair\n",
      "1\n",
      "Qual seu nome? Mônica \n",
      "Qual seu sobrenome? Zomer\n",
      "O que deseja fazer?\n",
      " 1 - Cadastrar\n",
      " 0 - Sair\n",
      "1\n",
      "Qual seu nome? Ki\n",
      "Qual seu sobrenome? kinho\n",
      "O que deseja fazer?\n",
      " 1 - Cadastrar\n",
      " 0 - Sair\n",
      "0\n",
      "[['Felipe', 'Debiazi'], ['Mônica ', 'Zomer'], ['Ki', 'kinho']]\n",
      "['nome', 'sobrenome']\n",
      "['Felipe', 'Debiazi']\n",
      "['Mônica ', 'Zomer']\n",
      "['Ki', 'kinho']\n"
     ]
    }
   ],
   "source": [
    "header = ['nome', 'sobrenome']\n",
    "dados = []\n",
    "opt = input('O que deseja fazer?\\n 1 - Cadastrar\\n 0 - Sair\\n')\n",
    "while opt != '0':\n",
    "    nome = input('Qual seu nome? ')\n",
    "    sobrenome = input ('Qual seu sobrenome? ')\n",
    "    dados.append([nome, sobrenome])\n",
    "    opt = input('O que deseja fazer?\\n 1 - Cadastrar\\n 0 - Sair\\n')\n",
    "    \n",
    "print(dados)\n",
    "\n",
    "with open('cadastro.csv', 'w', encoding='utf-8', newline='') as cadastro_csv:\n",
    "    writer = csv.writer(cadastro_csv)\n",
    "    writer.writerow(header)\n",
    "    writer.writerows(dados)\n",
    "    \n",
    "with open('cadastro.csv', 'r', encoding='utf-8') as csv_file:\n",
    "    csv_reader = csv.reader(csv_file, delimiter=',')\n",
    "    for row in csv_reader:\n",
    "        print(row)"
   ]
  },
  {
   "cell_type": "code",
   "execution_count": null,
   "id": "bb271711",
   "metadata": {},
   "outputs": [],
   "source": []
  }
 ],
 "metadata": {
  "kernelspec": {
   "display_name": "Python 3 (ipykernel)",
   "language": "python",
   "name": "python3"
  },
  "language_info": {
   "codemirror_mode": {
    "name": "ipython",
    "version": 3
   },
   "file_extension": ".py",
   "mimetype": "text/x-python",
   "name": "python",
   "nbconvert_exporter": "python",
   "pygments_lexer": "ipython3",
   "version": "3.9.12"
  }
 },
 "nbformat": 4,
 "nbformat_minor": 5
}
