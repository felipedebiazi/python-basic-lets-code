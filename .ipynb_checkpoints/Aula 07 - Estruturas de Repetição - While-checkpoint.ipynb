{
 "cells": [
  {
   "cell_type": "markdown",
   "id": "9b3d0b95",
   "metadata": {},
   "source": [
    "## While"
   ]
  },
  {
   "cell_type": "code",
   "execution_count": 1,
   "id": "31edcbb4",
   "metadata": {},
   "outputs": [
    {
     "name": "stdout",
     "output_type": "stream",
     "text": [
      "1 item limpo\n",
      "2 itens limpos\n",
      "3 itens limpos\n",
      "4 itens limpos\n",
      "5 itens limpos\n",
      "6 itens limpos\n",
      "7 itens limpos\n",
      "8 itens limpos\n",
      "9 itens limpos\n",
      "10 itens limpos\n",
      "Fim da repetição do bloco while\n"
     ]
    }
   ],
   "source": [
    "contador = 0\n",
    "\n",
    "while contador < 10:\n",
    "    contador = contador + 1\n",
    "    if contador == 1:\n",
    "        print(contador, \"item limpo\")\n",
    "    else:\n",
    "        print(contador, \"itens limpos\")\n",
    "\n",
    "print('Fim da repetição do bloco while')"
   ]
  },
  {
   "cell_type": "code",
   "execution_count": 2,
   "id": "2defb111",
   "metadata": {},
   "outputs": [
    {
     "name": "stdout",
     "output_type": "stream",
     "text": [
      "1 item limpo\n",
      "2 itens limpos\n",
      "3 itens limpos\n",
      "4 itens limpos\n",
      "5 itens limpos\n",
      "6 itens limpos\n",
      "7 itens limpos\n",
      "8 itens limpos\n",
      "9 itens limpos\n",
      "10 itens limpos\n",
      "Fim da repetição do bloco while\n"
     ]
    }
   ],
   "source": [
    "contador = 0\n",
    "\n",
    "while True:\n",
    "    if contador < 10:\n",
    "        contador = contador + 1\n",
    "        if contador == 1:\n",
    "            print(contador, \"item limpo\")\n",
    "        else:\n",
    "            print(contador, \"itens limpos\")\n",
    "    else:\n",
    "        break\n",
    "        \n",
    "print('Fim da repetição do bloco while')"
   ]
  },
  {
   "cell_type": "code",
   "execution_count": 3,
   "id": "73fca607",
   "metadata": {},
   "outputs": [
    {
     "name": "stdout",
     "output_type": "stream",
     "text": [
      "Digite sua senha: senhabala\n",
      "Senha Inválida. Tente novamente: 123abc\n",
      "Senha Inválida. Tente novamente: LestCode\n",
      "Acesso Permitido\n"
     ]
    }
   ],
   "source": [
    "texto = input('Digite sua senha: ')\n",
    "\n",
    "while texto != 'LestCode':\n",
    "    texto = input('Senha Inválida. Tente novamente: ')\n",
    "    \n",
    "print('Acesso Permitido')"
   ]
  },
  {
   "cell_type": "code",
   "execution_count": 4,
   "id": "e32d3e31",
   "metadata": {},
   "outputs": [
    {
     "name": "stdout",
     "output_type": "stream",
     "text": [
      "2 itens limpos\n",
      "3 itens limpos\n",
      "4 itens limpos\n",
      "5 itens limpos\n",
      "6 itens limpos\n",
      "7 itens limpos\n",
      "8 itens limpos\n",
      "9 itens limpos\n",
      "10 itens limpos\n",
      "Fim da repetição do bloco while\n"
     ]
    }
   ],
   "source": [
    "contador = 0\n",
    "\n",
    "while contador < 10:\n",
    "    contador = contador + 1\n",
    "    if contador == 1:\n",
    "        continue\n",
    "    print(contador, \"itens limpos\")\n",
    "\n",
    "print('Fim da repetição do bloco while')"
   ]
  }
 ],
 "metadata": {
  "kernelspec": {
   "display_name": "Python 3 (ipykernel)",
   "language": "python",
   "name": "python3"
  },
  "language_info": {
   "codemirror_mode": {
    "name": "ipython",
    "version": 3
   },
   "file_extension": ".py",
   "mimetype": "text/x-python",
   "name": "python",
   "nbconvert_exporter": "python",
   "pygments_lexer": "ipython3",
   "version": "3.9.12"
  }
 },
 "nbformat": 4,
 "nbformat_minor": 5
}
