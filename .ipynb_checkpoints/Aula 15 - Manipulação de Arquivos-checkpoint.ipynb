{
 "cells": [
  {
   "cell_type": "markdown",
   "id": "408f9cb4",
   "metadata": {},
   "source": [
    "## Manipulação de Arquivos"
   ]
  },
  {
   "cell_type": "code",
   "execution_count": 1,
   "id": "15d39e65",
   "metadata": {},
   "outputs": [
    {
     "name": "stdout",
     "output_type": "stream",
     "text": [
      "O Senhor dos Anéis - A Sociedade do Anel\n",
      "\n",
      "Muitos que vivem merecem a morte. \n",
      "E alguns que morrem merecem viver. \n",
      "Você pode dar-lhes a vida? \n",
      "Então não seja tão ávido para julgar e condenar alguém a morte. Pois mesmo os muitos sábios não conseguem ver os dois lados.\n",
      "\n",
      "Gandalf. \n"
     ]
    }
   ],
   "source": [
    "arquivo = open('dados/Texto Exemplo.txt', 'r', encoding='utf-8')\n",
    "texto = arquivo.read()\n",
    "print(texto)\n",
    "arquivo.close()"
   ]
  },
  {
   "cell_type": "code",
   "execution_count": 2,
   "id": "d1433e09",
   "metadata": {},
   "outputs": [
    {
     "name": "stdout",
     "output_type": "stream",
     "text": [
      "O Senhor dos Anéis - A Sociedade do Anel\n",
      "\n",
      "Muitos que vivem merecem a morte. \n",
      "E alguns que morrem merecem viver. \n",
      "Você pode dar-lhes a vida? \n",
      "Então não seja tão ávido para julgar e condenar alguém a morte. Pois mesmo os muitos sábios não conseguem ver os dois lados.\n",
      "\n",
      "Gandalf. "
     ]
    }
   ],
   "source": [
    "arquivo = open('dados/Texto Exemplo.txt', 'r', encoding='utf-8')\n",
    "linha = arquivo.readline()\n",
    "while linha != '':\n",
    "    print(linha, end='')\n",
    "    linha = arquivo.readline()\n",
    "arquivo.close()"
   ]
  },
  {
   "cell_type": "code",
   "execution_count": 4,
   "id": "abdb13f7",
   "metadata": {},
   "outputs": [
    {
     "name": "stdout",
     "output_type": "stream",
     "text": [
      "O Senhor dos Anéis - A Sociedade do Anel\n",
      "\n",
      "Muitos que vivem merecem a morte. \n",
      "E alguns que morrem merecem viver. \n",
      "Você pode dar-lhes a vida? \n",
      "Então não seja tão ávido para julgar e condenar alguém a morte. Pois mesmo os muitos sábios não conseguem ver os dois lados.\n",
      "\n",
      "Gandalf. "
     ]
    }
   ],
   "source": [
    "arquivo = open('dados/Texto Exemplo.txt', 'r', encoding='utf-8')\n",
    "for linha in arquivo:\n",
    "    print(linha, end='')\n",
    "arquivo.close()"
   ]
  },
  {
   "cell_type": "code",
   "execution_count": 5,
   "id": "44c48ade",
   "metadata": {},
   "outputs": [
    {
     "name": "stdout",
     "output_type": "stream",
     "text": [
      "O Senhor dos Anéis - A Sociedade do Anel\n",
      "\n",
      "Muitos que vivem merecem a morte. \n",
      "E alguns que morrem merecem viver. \n",
      "Você pode dar-lhes a vida? \n",
      "Então não seja tão ávido para julgar e condenar alguém a morte. Pois mesmo os muitos sábios não conseguem ver os dois lados.\n",
      "\n",
      "Gandalf. \n"
     ]
    }
   ],
   "source": [
    "with open('dados/Texto Exemplo.txt', 'r' , encoding='utf-8') as arquivo:\n",
    "    texto = arquivo.read()\n",
    "    print(texto)"
   ]
  },
  {
   "cell_type": "code",
   "execution_count": 6,
   "id": "3acb86c2",
   "metadata": {},
   "outputs": [],
   "source": [
    "with open('dados/arquivo_teste.txt', 'w', encoding='utf-8') as arquivo:\n",
    "    arquivo.write(\"Essa é uma linha que eu escrevi usando Python\\n\")\n",
    "    arquivo.write(\"Essa é a segunda linha que eu escrevi usando Python\\n\")"
   ]
  },
  {
   "cell_type": "code",
   "execution_count": 7,
   "id": "61ee59a3",
   "metadata": {},
   "outputs": [
    {
     "name": "stdout",
     "output_type": "stream",
     "text": [
      "Essa é uma linha que eu escrevi usando Python\n",
      "Essa é a segunda linha que eu escrevi usando Python\n"
     ]
    }
   ],
   "source": [
    "with open('dados/arquivo_teste.txt', 'r' , encoding='utf-8') as arquivo:\n",
    "    print(arquivo.read(), end='')"
   ]
  },
  {
   "cell_type": "code",
   "execution_count": 8,
   "id": "3c8da671",
   "metadata": {},
   "outputs": [],
   "source": [
    "with open('dados/arquivo_teste.txt', 'a', encoding='utf-8') as arquivo:\n",
    "    arquivo.write(\"Essa é a terceira que eu escrevi usando Python\\n\")"
   ]
  },
  {
   "cell_type": "code",
   "execution_count": 9,
   "id": "2d9f9014",
   "metadata": {},
   "outputs": [
    {
     "name": "stdout",
     "output_type": "stream",
     "text": [
      "Essa é uma linha que eu escrevi usando Python\n",
      "Essa é a segunda linha que eu escrevi usando Python\n",
      "Essa é a terceira que eu escrevi usando Python\n"
     ]
    }
   ],
   "source": [
    "with open('dados/arquivo_teste.txt', 'r' , encoding='utf-8') as arquivo:\n",
    "    print(arquivo.read(), end='')"
   ]
  }
 ],
 "metadata": {
  "kernelspec": {
   "display_name": "Python 3 (ipykernel)",
   "language": "python",
   "name": "python3"
  },
  "language_info": {
   "codemirror_mode": {
    "name": "ipython",
    "version": 3
   },
   "file_extension": ".py",
   "mimetype": "text/x-python",
   "name": "python",
   "nbconvert_exporter": "python",
   "pygments_lexer": "ipython3",
   "version": "3.9.12"
  }
 },
 "nbformat": 4,
 "nbformat_minor": 5
}
