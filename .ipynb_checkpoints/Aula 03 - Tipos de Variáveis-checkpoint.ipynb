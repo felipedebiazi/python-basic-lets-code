{
 "cells": [
  {
   "cell_type": "markdown",
   "id": "88f44f57",
   "metadata": {},
   "source": [
    "## Tipos de Variáveis"
   ]
  },
  {
   "cell_type": "code",
   "execution_count": 4,
   "id": "a6ad9f3c",
   "metadata": {},
   "outputs": [],
   "source": [
    "x = 5"
   ]
  },
  {
   "cell_type": "code",
   "execution_count": 5,
   "id": "0ddd0ca2",
   "metadata": {},
   "outputs": [
    {
     "name": "stdout",
     "output_type": "stream",
     "text": [
      "5\n"
     ]
    }
   ],
   "source": [
    "print(x)"
   ]
  },
  {
   "cell_type": "code",
   "execution_count": 6,
   "id": "3c01fd3e",
   "metadata": {},
   "outputs": [
    {
     "name": "stdout",
     "output_type": "stream",
     "text": [
      "<class 'int'>\n"
     ]
    }
   ],
   "source": [
    "print(type(x))"
   ]
  },
  {
   "cell_type": "code",
   "execution_count": 8,
   "id": "b4103311",
   "metadata": {},
   "outputs": [
    {
     "name": "stdout",
     "output_type": "stream",
     "text": [
      "19.99 <class 'float'>\n"
     ]
    }
   ],
   "source": [
    "preco = 19.99\n",
    "print(preco, type(preco))"
   ]
  },
  {
   "cell_type": "code",
   "execution_count": 10,
   "id": "707824c3",
   "metadata": {},
   "outputs": [
    {
     "name": "stdout",
     "output_type": "stream",
     "text": [
      "Orleans <class 'str'>\n"
     ]
    }
   ],
   "source": [
    "cidade = \"Orleans\"\n",
    "print(cidade,type(cidade))"
   ]
  },
  {
   "cell_type": "code",
   "execution_count": 11,
   "id": "2ad52259",
   "metadata": {},
   "outputs": [
    {
     "name": "stdout",
     "output_type": "stream",
     "text": [
      "Orleans <class 'str'>\n"
     ]
    }
   ],
   "source": [
    "cidade = 'Orleans'\n",
    "print(cidade,type(cidade))"
   ]
  },
  {
   "cell_type": "code",
   "execution_count": 12,
   "id": "bb180f7d",
   "metadata": {},
   "outputs": [
    {
     "name": "stdout",
     "output_type": "stream",
     "text": [
      "True\n"
     ]
    }
   ],
   "source": [
    "disponivel = True\n",
    "print(disponivel)"
   ]
  },
  {
   "cell_type": "code",
   "execution_count": 14,
   "id": "2a9b5431",
   "metadata": {},
   "outputs": [
    {
     "name": "stdout",
     "output_type": "stream",
     "text": [
      "False <class 'bool'>\n"
     ]
    }
   ],
   "source": [
    "disponivel = False\n",
    "print(disponivel,type(disponivel))"
   ]
  }
 ],
 "metadata": {
  "kernelspec": {
   "display_name": "Python 3 (ipykernel)",
   "language": "python",
   "name": "python3"
  },
  "language_info": {
   "codemirror_mode": {
    "name": "ipython",
    "version": 3
   },
   "file_extension": ".py",
   "mimetype": "text/x-python",
   "name": "python",
   "nbconvert_exporter": "python",
   "pygments_lexer": "ipython3",
   "version": "3.9.12"
  }
 },
 "nbformat": 4,
 "nbformat_minor": 5
}
