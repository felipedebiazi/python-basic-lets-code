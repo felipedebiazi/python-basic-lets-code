{
 "cells": [
  {
   "cell_type": "markdown",
   "id": "a8aac034",
   "metadata": {},
   "source": [
    "1. Faça um programa que olhe todos os itens de uma lista e diga quantos deles são pares.\n"
   ]
  },
  {
   "cell_type": "code",
   "execution_count": 74,
   "id": "d61cbf5e",
   "metadata": {
    "scrolled": true
   },
   "outputs": [
    {
     "name": "stdout",
     "output_type": "stream",
     "text": [
      "[1, 2, 3, 4, 5, 6, 7, 8, 9, 10, 11, 12, 13, 14, 15, 16, 17, 18, 19]\n",
      "O total de numeros pares na lista são: 9\n"
     ]
    }
   ],
   "source": [
    "lista = list(range(1,20))\n",
    "print(lista)\n",
    "\n",
    "pares = 0\n",
    "cont = 0\n",
    "while cont < len(lista):\n",
    "    if (lista[cont] % 2) == 0 :\n",
    "        pares = pares + 1 \n",
    "\n",
    "    cont = cont +1\n",
    "    \n",
    "print(f'O total de numeros pares na lista são: {pares}')"
   ]
  },
  {
   "cell_type": "markdown",
   "id": "64daaed7",
   "metadata": {},
   "source": [
    "2. Faça um programa que peça para o usuário digitar uma palavra e imprima cada letra em uma linha.\n"
   ]
  },
  {
   "cell_type": "code",
   "execution_count": 75,
   "id": "222135db",
   "metadata": {},
   "outputs": [
    {
     "name": "stdout",
     "output_type": "stream",
     "text": [
      "Digite uma palavra? teste\n",
      "t\n",
      "e\n",
      "s\n",
      "t\n",
      "e\n"
     ]
    }
   ],
   "source": [
    "palavra = input('Digite uma palavra? ')\n",
    "\n",
    "cont = 0 \n",
    "while cont < len(palavra):\n",
    "    print(palavra[cont])\n",
    "    cont = cont +1\n",
    "    "
   ]
  },
  {
   "cell_type": "markdown",
   "id": "8eb80c0e",
   "metadata": {},
   "source": [
    "3. Faça uma função que recebe duas listas e retorna a soma item a item dessas listas.\n",
    "\n",
    "Exemplo: Se a função receber as listas [1,4,3] e [3,5,1], então a função deve \n",
    "retornar [1+3, 4+5, 3+1] = [4, 9, 4].\n"
   ]
  },
  {
   "cell_type": "code",
   "execution_count": 76,
   "id": "3edfe0da",
   "metadata": {},
   "outputs": [
    {
     "name": "stdout",
     "output_type": "stream",
     "text": [
      "[4, 9, 4]\n"
     ]
    }
   ],
   "source": [
    "lista_1 = [1,4,3]\n",
    "lista_2 = [3,5,1]\n",
    "\n",
    "lista_soma = []\n",
    "cont = 0 \n",
    "\n",
    "while cont < len(lista_1):\n",
    "    soma = lista_1[cont] + lista_2[cont]\n",
    "    lista_soma.append(soma)\n",
    "    \n",
    "    cont = cont +1 \n",
    "\n",
    "print(lista_soma)"
   ]
  },
  {
   "cell_type": "markdown",
   "id": "4152b42e",
   "metadata": {},
   "source": [
    "4. Crie um dicionário cujas chaves são os meses do ano e os valores são a \n",
    "duração (em dias) de cada mês.\n"
   ]
  },
  {
   "cell_type": "code",
   "execution_count": 2,
   "id": "05491bef",
   "metadata": {},
   "outputs": [],
   "source": [
    "dicionario = {\n",
    "    'jan': '31 dias',\n",
    "    'fev': '28 dias',\n",
    "    'mar': '31 dias',\n",
    "    'abr': '30 dias',\n",
    "    'mai': '31 dias',\n",
    "    'jun': '30 dias',\n",
    "    'jul': '31 dias', \n",
    "    'ago': '31 dias',\n",
    "    'set': '30 dias',\n",
    "    'out': '31 dias',\n",
    "    'nov': '30 dias',\n",
    "    'dez': '31 dias',\n",
    "}\n"
   ]
  },
  {
   "cell_type": "markdown",
   "id": "3fd89b13",
   "metadata": {},
   "source": [
    "5. Imprima as chaves seguidas dos seus valores para dicionário criado no \n",
    "exercício anterior.\n",
    "\n",
    "Exemplo:\n",
    "Janeiro - 31\n",
    "Fevereiro - 28\n",
    "Março - 31\n",
    "Etc..."
   ]
  },
  {
   "cell_type": "code",
   "execution_count": 3,
   "id": "770d9be8",
   "metadata": {},
   "outputs": [
    {
     "name": "stdout",
     "output_type": "stream",
     "text": [
      "jan - 31 dias\n",
      "fev - 28 dias\n",
      "mar - 31 dias\n",
      "abr - 30 dias\n",
      "mai - 31 dias\n",
      "jun - 30 dias\n",
      "jul - 31 dias\n",
      "ago - 31 dias\n",
      "set - 30 dias\n",
      "out - 31 dias\n",
      "nov - 30 dias\n",
      "dez - 31 dias\n"
     ]
    }
   ],
   "source": [
    "for chave in dicionario.keys():\n",
    "    print(f'{chave} - {dicionario[chave]}')"
   ]
  }
 ],
 "metadata": {
  "kernelspec": {
   "display_name": "Python 3 (ipykernel)",
   "language": "python",
   "name": "python3"
  },
  "language_info": {
   "codemirror_mode": {
    "name": "ipython",
    "version": 3
   },
   "file_extension": ".py",
   "mimetype": "text/x-python",
   "name": "python",
   "nbconvert_exporter": "python",
   "pygments_lexer": "ipython3",
   "version": "3.9.12"
  }
 },
 "nbformat": 4,
 "nbformat_minor": 5
}
