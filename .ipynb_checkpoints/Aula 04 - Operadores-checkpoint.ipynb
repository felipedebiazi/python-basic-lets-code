{
 "cells": [
  {
   "cell_type": "markdown",
   "id": "1fdb10f5",
   "metadata": {},
   "source": [
    "## Operadores"
   ]
  },
  {
   "cell_type": "code",
   "execution_count": 1,
   "id": "b3e01659",
   "metadata": {},
   "outputs": [],
   "source": [
    "x = 50\n",
    "y = 2"
   ]
  },
  {
   "cell_type": "code",
   "execution_count": 2,
   "id": "3f051930",
   "metadata": {},
   "outputs": [
    {
     "name": "stdout",
     "output_type": "stream",
     "text": [
      "52\n",
      "48\n",
      "100\n",
      "25.0\n"
     ]
    }
   ],
   "source": [
    "print(x + y)\n",
    "print(x - y)\n",
    "print(x * y)\n",
    "print(x / y)"
   ]
  },
  {
   "cell_type": "code",
   "execution_count": 3,
   "id": "0541546b",
   "metadata": {},
   "outputs": [
    {
     "name": "stdout",
     "output_type": "stream",
     "text": [
      "2500\n",
      "25\n",
      "0\n"
     ]
    }
   ],
   "source": [
    "print(x ** y)\n",
    "print(x // y)\n",
    "print(x % y)"
   ]
  },
  {
   "cell_type": "code",
   "execution_count": 4,
   "id": "b949f512",
   "metadata": {},
   "outputs": [],
   "source": [
    "tem_cafe = True\n",
    "tem_pao = False"
   ]
  },
  {
   "cell_type": "code",
   "execution_count": 5,
   "id": "6169958d",
   "metadata": {},
   "outputs": [
    {
     "name": "stdout",
     "output_type": "stream",
     "text": [
      "False\n",
      "True\n",
      "False\n"
     ]
    }
   ],
   "source": [
    "print(not tem_cafe)\n",
    "print(tem_cafe or tem_pao)\n",
    "print(tem_cafe and tem_pao)"
   ]
  },
  {
   "cell_type": "code",
   "execution_count": 6,
   "id": "ec71734c",
   "metadata": {},
   "outputs": [],
   "source": [
    "dolar = 5.3\n",
    "real = 1"
   ]
  },
  {
   "cell_type": "code",
   "execution_count": 7,
   "id": "c992f59a",
   "metadata": {
    "scrolled": true
   },
   "outputs": [
    {
     "name": "stdout",
     "output_type": "stream",
     "text": [
      "True\n",
      "False\n",
      "False\n",
      "True\n",
      "False\n",
      "True\n"
     ]
    }
   ],
   "source": [
    "print(dolar > real)\n",
    "print(dolar < real)\n",
    "print(dolar == real)\n",
    "print(dolar >= real)\n",
    "print(dolar <= real)\n",
    "print(dolar != real)"
   ]
  }
 ],
 "metadata": {
  "kernelspec": {
   "display_name": "Python 3 (ipykernel)",
   "language": "python",
   "name": "python3"
  },
  "language_info": {
   "codemirror_mode": {
    "name": "ipython",
    "version": 3
   },
   "file_extension": ".py",
   "mimetype": "text/x-python",
   "name": "python",
   "nbconvert_exporter": "python",
   "pygments_lexer": "ipython3",
   "version": "3.9.12"
  }
 },
 "nbformat": 4,
 "nbformat_minor": 5
}
