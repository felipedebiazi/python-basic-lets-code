{
 "cells": [
  {
   "cell_type": "markdown",
   "id": "47bf9b0b",
   "metadata": {},
   "source": [
    "## Métodos"
   ]
  },
  {
   "cell_type": "code",
   "execution_count": 1,
   "id": "89f36d1b",
   "metadata": {},
   "outputs": [],
   "source": [
    "lista = [1, 2, 7, 15, 8]"
   ]
  },
  {
   "cell_type": "code",
   "execution_count": 2,
   "id": "1702e002",
   "metadata": {},
   "outputs": [
    {
     "name": "stdout",
     "output_type": "stream",
     "text": [
      "[1, 2, 7, 15, 8, 3]\n"
     ]
    }
   ],
   "source": [
    "lista.append(3) # insere o elemento na ultima posição\n",
    "print(lista)"
   ]
  },
  {
   "cell_type": "code",
   "execution_count": 3,
   "id": "851de354",
   "metadata": {},
   "outputs": [
    {
     "name": "stdout",
     "output_type": "stream",
     "text": [
      "[1, 10, 2, 7, 15, 8, 3]\n"
     ]
    }
   ],
   "source": [
    "lista.insert(1, 10) # insere o elemento na posicão passada\n",
    "print(lista)"
   ]
  },
  {
   "cell_type": "code",
   "execution_count": 4,
   "id": "dd796efe",
   "metadata": {},
   "outputs": [
    {
     "name": "stdout",
     "output_type": "stream",
     "text": [
      "[1, 10, 2, 7, 15, 8, 3, 1, 2, 3]\n"
     ]
    }
   ],
   "source": [
    "lista_2 = [1, 2, 3]\n",
    "lista.extend(lista_2) # concatena as duas listas\n",
    "print(lista)"
   ]
  },
  {
   "cell_type": "code",
   "execution_count": 5,
   "id": "44376db6",
   "metadata": {},
   "outputs": [
    {
     "name": "stdout",
     "output_type": "stream",
     "text": [
      "[1, 10, 2, 7, 15, 8, 3, 1, 2]\n",
      "[10, 2, 7, 15, 8, 3, 1, 2]\n"
     ]
    }
   ],
   "source": [
    "lista.pop() # parametro vazio remove o elemento da ultima posição \n",
    "print(lista)\n",
    "\n",
    "lista.pop(0) # remove o elemento na posição inserida no parametro \n",
    "print(lista)"
   ]
  },
  {
   "cell_type": "code",
   "execution_count": 6,
   "id": "ffc5f46d",
   "metadata": {},
   "outputs": [
    {
     "name": "stdout",
     "output_type": "stream",
     "text": [
      "[10, 7, 15, 8, 3, 1, 2]\n"
     ]
    }
   ],
   "source": [
    "lista.remove(2) # remove o primeiro elemento '(2)' encontrado na lista  \n",
    "print(lista)"
   ]
  },
  {
   "cell_type": "code",
   "execution_count": 9,
   "id": "cbaecd3e",
   "metadata": {},
   "outputs": [
    {
     "name": "stdout",
     "output_type": "stream",
     "text": [
      "quantidade de numeros 10 na lista: 1\n"
     ]
    }
   ],
   "source": [
    "print('quantidade de numeros 10 na lista:', lista.count(10))"
   ]
  },
  {
   "cell_type": "code",
   "execution_count": 10,
   "id": "723a152e",
   "metadata": {},
   "outputs": [
    {
     "name": "stdout",
     "output_type": "stream",
     "text": [
      "indice do elemento 8: 3\n"
     ]
    }
   ],
   "source": [
    "print('indice do elemento 8:', lista.index(8))"
   ]
  },
  {
   "cell_type": "code",
   "execution_count": 12,
   "id": "419f61b2",
   "metadata": {},
   "outputs": [
    {
     "name": "stdout",
     "output_type": "stream",
     "text": [
      "[15, 10, 8, 7, 3, 2, 1]\n"
     ]
    }
   ],
   "source": [
    "lista.sort(reverse=True) # ordena os elementos contidos na lista\n",
    "print(lista)"
   ]
  },
  {
   "cell_type": "markdown",
   "id": "85cb5664",
   "metadata": {},
   "source": [
    "## Funções"
   ]
  },
  {
   "cell_type": "code",
   "execution_count": 13,
   "id": "66dd3fc4",
   "metadata": {},
   "outputs": [
    {
     "name": "stdout",
     "output_type": "stream",
     "text": [
      "7\n"
     ]
    }
   ],
   "source": [
    "print(len(lista))"
   ]
  },
  {
   "cell_type": "code",
   "execution_count": 14,
   "id": "d723f4b9",
   "metadata": {},
   "outputs": [
    {
     "name": "stdout",
     "output_type": "stream",
     "text": [
      "46\n"
     ]
    }
   ],
   "source": [
    "print(sum(lista))"
   ]
  },
  {
   "cell_type": "code",
   "execution_count": 15,
   "id": "c46871b1",
   "metadata": {},
   "outputs": [
    {
     "name": "stdout",
     "output_type": "stream",
     "text": [
      "15\n"
     ]
    }
   ],
   "source": [
    "print(max(lista))"
   ]
  },
  {
   "cell_type": "code",
   "execution_count": 16,
   "id": "c213c362",
   "metadata": {},
   "outputs": [
    {
     "name": "stdout",
     "output_type": "stream",
     "text": [
      "1\n"
     ]
    }
   ],
   "source": [
    "print(min(lista))"
   ]
  }
 ],
 "metadata": {
  "kernelspec": {
   "display_name": "Python 3 (ipykernel)",
   "language": "python",
   "name": "python3"
  },
  "language_info": {
   "codemirror_mode": {
    "name": "ipython",
    "version": 3
   },
   "file_extension": ".py",
   "mimetype": "text/x-python",
   "name": "python",
   "nbconvert_exporter": "python",
   "pygments_lexer": "ipython3",
   "version": "3.9.12"
  }
 },
 "nbformat": 4,
 "nbformat_minor": 5
}
